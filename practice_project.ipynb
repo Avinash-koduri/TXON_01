{
  "cells": [
    {
      "cell_type": "markdown",
      "metadata": {
        "id": "view-in-github",
        "colab_type": "text"
      },
      "source": [
        "<a href=\"https://colab.research.google.com/github/Avinash-koduri/TXON_01/blob/main/practice_project.ipynb\" target=\"_parent\"><img src=\"https://colab.research.google.com/assets/colab-badge.svg\" alt=\"Open In Colab\"/></a>"
      ]
    },
    {
      "cell_type": "code",
      "execution_count": 82,
      "metadata": {
        "colab": {
          "base_uri": "https://localhost:8080/"
        },
        "id": "lCqa2-3GLr07",
        "outputId": "ede9505d-d436-4351-e2ec-c24434959bac"
      },
      "outputs": [
        {
          "output_type": "stream",
          "name": "stdout",
          "text": [
            "Drive already mounted at /content/drive; to attempt to forcibly remount, call drive.mount(\"/content/drive\", force_remount=True).\n"
          ]
        }
      ],
      "source": [
        "from google.colab import drive\n",
        "drive.mount('/content/drive')"
      ]
    },
    {
      "cell_type": "code",
      "execution_count": 83,
      "metadata": {
        "id": "GD27boIRNjhV"
      },
      "outputs": [],
      "source": [
        "path=('/content/drive/MyDrive/image classificaton')"
      ]
    },
    {
      "cell_type": "code",
      "execution_count": 84,
      "metadata": {
        "id": "bo8ad8YiPRSU"
      },
      "outputs": [],
      "source": [
        "train =('/content/drive/MyDrive/image classificaton/dataset/training')\n",
        "test=('/content/drive/MyDrive/image classificaton/dataset/testing')"
      ]
    },
    {
      "cell_type": "code",
      "execution_count": 85,
      "metadata": {
        "id": "MFvOsegsP-cf"
      },
      "outputs": [],
      "source": [
        "from tensorflow.keras.preprocessing.image import ImageDataGenerator"
      ]
    },
    {
      "cell_type": "markdown",
      "metadata": {
        "id": "vRptSyHERawj"
      },
      "source": [
        "train.class_indices"
      ]
    },
    {
      "cell_type": "code",
      "execution_count": 86,
      "metadata": {
        "colab": {
          "base_uri": "https://localhost:8080/"
        },
        "id": "FIsI9KBKQhnc",
        "outputId": "d8e229f3-773a-4f35-ca1a-f5aad3f00d3b"
      },
      "outputs": [
        {
          "output_type": "stream",
          "name": "stdout",
          "text": [
            "Found 40 images belonging to 2 classes.\n"
          ]
        }
      ],
      "source": [
        "train_gen=ImageDataGenerator(rescale=1/255)\n",
        "train = train_gen.flow_from_directory(train,target_size=(64,64),batch_size=3,class_mode='binary')"
      ]
    },
    {
      "cell_type": "code",
      "execution_count": 87,
      "metadata": {
        "colab": {
          "base_uri": "https://localhost:8080/"
        },
        "id": "tLhq750xR13D",
        "outputId": "11563b74-4f53-4ff4-9947-d08fa6d09b62"
      },
      "outputs": [
        {
          "output_type": "stream",
          "name": "stdout",
          "text": [
            "Found 40 images belonging to 2 classes.\n"
          ]
        }
      ],
      "source": [
        "test_gen = ImageDataGenerator(rescale=1/255)\n",
        "test = test_gen.flow_from_directory(test,target_size=(64,64),batch_size=3,class_mode='binary')"
      ]
    },
    {
      "cell_type": "code",
      "execution_count": 88,
      "metadata": {
        "id": "waMWb2ugSwvJ"
      },
      "outputs": [],
      "source": [
        "from tensorflow.keras.models import Sequential\n",
        "from tensorflow.keras.layers import Dense,Activation,Flatten"
      ]
    },
    {
      "cell_type": "code",
      "source": [
        "model = Sequential()\n",
        "model.add(Dense(128,input_shape=(64,64,3)))\n",
        "model.add(Dense(120,activation='relu'))\n",
        "model.add(Flatten())\n",
        "model.add(Dense(1,activation='sigmoid'))"
      ],
      "metadata": {
        "id": "REElU5T7jblM"
      },
      "execution_count": 117,
      "outputs": []
    },
    {
      "cell_type": "code",
      "source": [
        "model.compile(optimizer='adam',loss='binary_crossentropy',metrics=['accuracy'])"
      ],
      "metadata": {
        "id": "MMfE6C0nkMCW"
      },
      "execution_count": 118,
      "outputs": []
    },
    {
      "cell_type": "code",
      "source": [
        "model.fit(x=train,validation_data=test,epochs=10)"
      ],
      "metadata": {
        "colab": {
          "base_uri": "https://localhost:8080/"
        },
        "id": "eDw7jkkQkmng",
        "outputId": "46167ab8-4f2d-4cbc-b93e-cfda11e14367"
      },
      "execution_count": 119,
      "outputs": [
        {
          "output_type": "stream",
          "name": "stdout",
          "text": [
            "Epoch 1/10\n",
            "14/14 [==============================] - 2s 99ms/step - loss: 1.2732 - accuracy: 0.5000 - val_loss: 0.6543 - val_accuracy: 0.6250\n",
            "Epoch 2/10\n",
            "14/14 [==============================] - 1s 77ms/step - loss: 0.5978 - accuracy: 0.6250 - val_loss: 0.6100 - val_accuracy: 0.6500\n",
            "Epoch 3/10\n",
            "14/14 [==============================] - 1s 101ms/step - loss: 0.4989 - accuracy: 0.8250 - val_loss: 0.5633 - val_accuracy: 0.6750\n",
            "Epoch 4/10\n",
            "14/14 [==============================] - 1s 83ms/step - loss: 0.2932 - accuracy: 0.9000 - val_loss: 1.0415 - val_accuracy: 0.5500\n",
            "Epoch 5/10\n",
            "14/14 [==============================] - 2s 124ms/step - loss: 0.2906 - accuracy: 0.8500 - val_loss: 0.6457 - val_accuracy: 0.6000\n",
            "Epoch 6/10\n",
            "14/14 [==============================] - 2s 138ms/step - loss: 0.1440 - accuracy: 0.9750 - val_loss: 0.6635 - val_accuracy: 0.6500\n",
            "Epoch 7/10\n",
            "14/14 [==============================] - 2s 140ms/step - loss: 0.0655 - accuracy: 1.0000 - val_loss: 0.9487 - val_accuracy: 0.6750\n",
            "Epoch 8/10\n",
            "14/14 [==============================] - 1s 87ms/step - loss: 0.0332 - accuracy: 1.0000 - val_loss: 0.7887 - val_accuracy: 0.6000\n",
            "Epoch 9/10\n",
            "14/14 [==============================] - 1s 106ms/step - loss: 0.0248 - accuracy: 1.0000 - val_loss: 0.9686 - val_accuracy: 0.7000\n",
            "Epoch 10/10\n",
            "14/14 [==============================] - 1s 80ms/step - loss: 0.0089 - accuracy: 1.0000 - val_loss: 0.8116 - val_accuracy: 0.6750\n"
          ]
        },
        {
          "output_type": "execute_result",
          "data": {
            "text/plain": [
              "<keras.src.callbacks.History at 0x7de95168d480>"
            ]
          },
          "metadata": {},
          "execution_count": 119
        }
      ]
    },
    {
      "cell_type": "code",
      "source": [
        "import cv2 as cv\n",
        "from google.colab.patches import cv_imshow\n",
        "img=cv.imread('/content/dog2.jpeg')\n",
        "cv_imshow(img)\n"
      ],
      "metadata": {
        "colab": {
          "base_uri": "https://localhost:8080/",
          "height": 165
        },
        "id": "sOZMDB3jo-yN",
        "outputId": "215847fa-c77f-4507-b9e9-798927dd4e8d"
      },
      "execution_count": 120,
      "outputs": [
        {
          "output_type": "display_data",
          "data": {
            "text/plain": [
              "<PIL.Image.Image image mode=RGB size=251x148>"
            ],
            "image/png": "[encoded data removed]"
          },
          "metadata": {}
        }
      ]
    },
    {
      "cell_type": "code",
      "source": [
        "img.shape"
      ],
      "metadata": {
        "colab": {
          "base_uri": "https://localhost:8080/"
        },
        "id": "gGBvHeU_p2l0",
        "outputId": "e8ed5b24-180d-4a34-dce1-9caea48b37ad"
      },
      "execution_count": 127,
      "outputs": [
        {
          "output_type": "execute_result",
          "data": {
            "text/plain": [
              "(148, 251, 3)"
            ]
          },
          "metadata": {},
          "execution_count": 127
        }
      ]
    },
    {
      "cell_type": "code",
      "source": [
        "test_img=cv.resize(img,(64,64))\n",
        "test_input=test_img.reshape(1,64,64,3)"
      ],
      "metadata": {
        "id": "V8bIXM7MsVQy"
      },
      "execution_count": 133,
      "outputs": []
    },
    {
      "cell_type": "code",
      "source": [
        "value=model.predict(test_input)\n",
        "if(value==1):\n",
        "  print(\"dog\")\n",
        "else:\n",
        "  print('cat')"
      ],
      "metadata": {
        "colab": {
          "base_uri": "https://localhost:8080/"
        },
        "id": "MeyGU5zdtlO4",
        "outputId": "7eff79d7-5a84-4cb1-8e74-b42a6e8c8072"
      },
      "execution_count": 135,
      "outputs": [
        {
          "output_type": "stream",
          "name": "stdout",
          "text": [
            "1/1 [==============================] - 0s 161ms/step\n",
            "dog\n"
          ]
        }
      ]
    }
  ],
  "metadata": {
    "colab": {
      "provenance": [],
      "mount_file_id": "198ZsKZWrt3SNNmkA8sRbrj2aLc8ncN9Z",
      "authorship_tag": "ABX9TyMl/57jqTSQIctodeFxs91m",
      "include_colab_link": true
    },
    "kernelspec": {
      "display_name": "Python 3",
      "name": "python3"
    },
    "language_info": {
      "name": "python"
    }
  },
  "nbformat": 4,
  "nbformat_minor": 0
}